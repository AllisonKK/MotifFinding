{
 "cells": [
  {
   "cell_type": "code",
   "execution_count": null,
   "metadata": {},
   "outputs": [],
   "source": [
    "D:\\IntroToDataMining-CS412\\final project\\benchmark\\dataset0"
   ]
  },
  {
   "cell_type": "code",
   "execution_count": null,
   "metadata": {},
   "outputs": [],
   "source": [
    "E = ['A', 'T', 'C', 'G']"
   ]
  },
  {
   "cell_type": "code",
   "execution_count": 428,
   "metadata": {},
   "outputs": [],
   "source": [
    "import random\n",
    "import numpy as np\n",
    "import math"
   ]
  },
  {
   "cell_type": "markdown",
   "metadata": {},
   "source": [
    "### Step 2: Implementing the motif-finder\n",
    "Write a program that will read the “sequences.fa” file and “motiflength.txt” file in a\n",
    "data set and find a motif (position weight matrix) of length given by the\n",
    "“motiflength.txt” file. How you find the motif (i.e., the algorithm) is entirely up to\n",
    "you. Needless to say, your program should not “look at” motif.txt or sites.txt.\n",
    "The program should produce two output files for the data set:  \n",
    "1) “predictedmotif.txt”, in the same format as “motif.txt” from the data set.  \n",
    "2) “predictedsites.txt”, in the same format as “sites.txt” from the data set. This file\n",
    "will have your program’s prediction of one site per sequence. "
   ]
  },
  {
   "cell_type": "markdown",
   "metadata": {},
   "source": [
    "## Reading Files"
   ]
  },
  {
   "cell_type": "code",
   "execution_count": 117,
   "metadata": {},
   "outputs": [
    {
     "data": {
      "text/plain": [
       "['GAGACCGTCACGTATGGGGCCGGGAATATGGTCACAGGGACAAGGGTTAGCCCCAGGGGCTCTGCCGTTAAAATCACTCCTAAGTAAGGGAAATTGACCGACAACAAATACTGCACGACTTCGCAAGAGATCAATTCTAGCGAGCCTCTACCAGAGACGTTGCGTTCCGGATGCCGTCGTAGGCCACGATTCATAACCGGGGACTCCCGACAATGCTGAAACTCTAATAGAGGGCGATTGTTGGACGTATTCACGTTACTAGAGAGGGCTCCCTGGAGTATGCACGTAGTACAGCCAGGCAGGTGTGATCCGCGGTGTAATGAGAGATTTAAGCCTTATGCTGTCGTCAAGTATTTTGTATCAGGCCGGCCACATCCGCCACCCGTACTACAATACATATCCGGTGGTTACGATTATTTTATACCAAGCGAGATCAAAGTTGGGCGAGCAGTTCGCATGGCTATACGTCGTATGGAGAGAACTGGGGGACTCCACTTCTG',\n",
       " 'TGGCACGGAGGACCCACCTACTGGGCCAAAAAGATTGCAATCGGAGACCGTTGCACATTGTATCTACTTGCGGTCGTTCATGGGCTAATGTCCTCAAGTGAGTCCGCAAGGTGGGCACTGCTGTGTCACGAGCAACCTCAAAAGTGATAATGCATTTCGGCCACTGACAACGCGTCTGGTCCCGTTACGCGTACGCGATATATTCAACACCATGGCGCTATCGACTGTTAGTAGCCCAGAATGTGCCGCGTATTCTATGTAACATATTCGCCGTCCTCTCTGGGCGGAGACAGTCTTCCCCGTTTAGGGTGCCTTAGTCACCGGCTTCGAACCAAAGATCAGGTTTGTAACAAGGGACCGGCTTTCCAAAAACTTACTTGATGCAGGCGGGCGGTCGCCCTTTGAAACATCTAAACTCTTCATGCCAAGAGCTACAGGAGACGTGTCACTACCGCATTGTACGCGATCGCGAAATCAGAGAAATATGTCCCGGTTCACTT',\n",
       " 'TTACTTATGTCAGTATTCATGCCCGCCAAAGCCGTTAAACTCGAGAATGTAGAGTCACCTTTACGAATGTCCTCAGCAAAAACATTTGGACAAAGCGTCGAGACAGACAAGTGACTGACCAATGCCTGGTTTTAATGCTTAACGTGGACAGAATCGTTGACCAGTATTCCGTGGTCATGTGATACCGTCGATATATTAGACGGGCGGGAAACTCGGTCCGCTCCCCAGGCCCAGACATACTGGCTTCATCTATCTCCTTATGTGATGTGGGTATGGCCACCCGATGGAAAAGTTCTTTATGTCTGACCTTTCACTGACATGATCCGGCTAAATTAATCCTAACTCGTTCTTGGCACACCTCTTCACGTGCACATAAAAATGCATGATATACCGGCGGAGGGAACTGACAACCCGAATATATAATACACGAAGTCAAGAAAACCAGTTCATCGGCCGTGTTCATAAGTTGTCGAGAAAAATGACGTACGATGTGGTTCTCT',\n",
       " 'GACGATTGATGTATGATCGCGAGAAAGAATTATTACGAATTGGCGGTCCGAACTGCGAGGGCCCTCACCGGATATCCCTTTTCAGGGACACATCGTCGAACCCCCCGTGACAACCTGGAATTGGACTCGCGGAGTCGTAATCCTGTCCAGGAGTACTTGTCGGATAGTACTAATCCATCGGTGAGGCGGCACTAACTATCGCCTATGGCTACGCCCAACAGTAAGGGCCTTCTAAAAAGCCAGGTCGTCTAACGAAGGATTCTAAGACCGCTTAGCTAGTATGAACGCTCCGATCCGTTTTAAAGTTCGTCGTTGGGGCTCCCAATGTAGGGATGCCTTCACACAATCTTACAGCACACAAGGAACCATTGAAAAACCTCGGTCTCCCTTACCACAGACACATATTCAAGACCTCCCTCAGTCTCAGAAATGAGCCCTACACATCTGCCTGCGCGCATACGGCAGTGTTAACTGAGGAGTGTCCCCTTGCTGGTTATGCG',\n",
       " 'CCCCAGTGGATTTGTCCCAGAACGGTTGGGTCGTGTTGAAAAAATCCGTAAGTCTATGGGGGTTGCCGGGATGGCTCCCTCTATTCACAGACTGCTACCTGCGCCAAGGCATTAAGTAACAGCTCACTAGCCAGTTTGACTTCGATCCACATTGGGCGGAGATGGGGGCCTCGCCCTCGAACGACTGCAAACAAGTAAGAGCCTCGTTCTCTAAATCGGAACGACCCTCAAGCCTTTATGGCCAGGGCACTCTTACGAAAAATATGATATGTAAACAATATACTTTAGGCTTCTTGGACTATTCAACGTGTCTAAAATTGTGTGAGTAGAGACGCGTCATGGATCTTTAGCGTCCTACTAGCTCTTGGCGCGCAGGCTGGCTCTTTATGCACTTGACCCGATGTATGAAGTCCATGAATTGCGAGCAGATCGCCCACCCCGACTCGTCACTTCCAATCGGTGCTCAGTCACCATCATGATCAAATCAAAATAATTCCCTT',\n",
       " 'ATTCAGTTACGGGGTAGCTTAAAGCTCGGCAATTCGTAATTTGACATTATGACATCTGATATCTAGCCCCACATCGGCGCTCCACGGTTGTTATAGTAATGTTCAACTCCAGTAGCGAATGGCCATGGTGAACATCAGCAGGACCCCAAGTGTTGGCCTTAAAGACCAGAACATCTTAGGGGGAACTAAGAGCTCGGTCTACCTCTTTCCGCATTTTAGGAGAGTCGGGTATTTGAGTCTCGCGACCTCCTCATTGCTGCGCTCACAGTGAAAGGATGCGCACAATAGACTTCAGCTAGACGCGTTTAGGGTTGGAGCGGTACAAGATACTATAACCACGTGCGACGACGGGTGGCGAAAGATTCGAGTACCATTGGCGCGGCCTTGGCCAATAGTGGCAAACTCGTTTCGGTTGCCTGCCTTTCGAAGGTACTCGGGAGCTGTGCCCTATGGTATAGGTAGGTCCGGGCGCTTAAGAAAATGGAACAACAGGAGTACGA',\n",
       " 'CAAATCCCTGGTGTCAAGGAGGCTAGCTCAATAATCTCCCAGGCCGCATGTATGGCTTAGCTCTAAGTAATTTAGCCTACCTTAGTATTACATGGTCTACTGTACAAACCACCAATGAGAGTGGGGTGCGGATATGCTAAGTAGCAGAAAGGAATGGTCATTTAGCATGGTGTGACCTGAACATATTATGCCGACGCTTACAGGACCGTATCACTCCTTGAGGTATCTAGTTCTACGCCTGACATCGCGGTGGGGTGATCGGTATGGCTCTTCAGTGAATCTGAGTTCATCGTCGGAGGCCTTAAAAACGACGTGGGTGCATGTCAAAATCTGTTGAGGCTCTTTCGAAGACACACTGCACCGGATTGCCTTACCTTGAGCTACCCGGAATGCAAAAGCTTTAGGGCGCGCGTAGTCCTGGTTTTGTTAGCAGTTCCCTTTCGCCTTCTATCGCTCTAAATGCGAGGCATCCGATCGAGCGAACCAACCGTTGGCGAACT',\n",
       " 'ACCAGGGTGGGTTTAATCGGGCTTACGGTTGAGCGCCGATTAATTCGCGTTGTTAACCAGGTGCGGAGCTTGGTCAGATTTTCGACAAGTCAGGCCCGAAATTGGCCCGTTGGGTGAATTTTGCTGGCATACGAATAGCACCGCTGGAACCAGTTACAAGCCTGGATGCATCGTATAATGGTTCTTCGCGTAGTGTGTGGGAGGCATGTGGCACGCTGGTGATGAACCCGAAGTACACAAATTTTGGGTTGTGGACACAGGCCGCGAGATTGATCAGGCCCAGTGCCATGATGGTGTCAGATACCAAGGGGGCACGGCCAGTGCGAAGCACGGAAATTCTGTTTAGCAACTCGACAAACATCGTTCCATCGAACAAGGACCCTAGGACCCTCGAAAGATAGACAACTCTACAACATTAGATAACGGCGCTGTCCTTATCCTAGCAACATCCCTGCTTGCATTGTACTGGCGTATGTCGCGCACGTGTGGCTTCTTGAGCG',\n",
       " 'TCCATGTCAAACGTGCCCACTCAGTACGAATGCATGGATGTTCGGTTCCAGGGCTGTGGGAAACCTAATAATATTAGATACGGCCGGGCCGTCTGCTTACCTCCAACGGCAGCTCAACTTTCCTAGGAGGTGAAAGTTTCAAACAACCCCGATCCTCAGCTTCACGCTCCTCTTGTACTAGCCACGGACTGTGCCTTATCGATGCATTTCAGAGAACTTGAGGCATCCGAGCGAATCGGCTAAACGGCTTCGGCGATAACTACAAACTGATTCCGCATTAATACGTAAGTTTGGGTCAACGCACAAACGGGCTGAAAATCTCGGCAGCTGTCTCTACCTCATGCCCATTCGGTGGGTGCCGCCGGATTGGAGTCCGGCACACACGAGTCATATTGGGATAGGCGAACGCGGCCACCGTTCCGGCTCAGATTGGTTTATGTTGTGTTCTTTAAGTCCGACACGGTTATCATTCTTGTAGGGGCCTTGGGAGGAGCGATGCA',\n",
       " 'ATTGTGCGTACCGTGAGCCAAGCGAAGGCATTACGAGTAACTCACCCCCTCCCCATCGCATTACATCAGCCGCGATCTGGGAGAGATAATCTTAAATATCTCTTTAGTAGAGTTCAAGTCAACATATCATACCCGCATCGCCATCTGTCACTTACTCAACCGGCAAGACCCTGATTACTAAAGTCGAGCCGAGTATTCGGGCACCCATGACTTGTGCCGGTATGCTGCCCTGAACTTCAGCTTTATAAAGTGACGTTGGCCGGATCTTCTCGCATTACAAGGTAGCCGCCTATTCACCGAATATATAACCACATACTACTCCAGAGACTGTGGTCAAATGCTTTCCCTCTCATGGGTTGCTTATTGGCCACGCGTATTTCACCATTTTCCCATCCTACAATTTGGCCACTCGATTGCGGAGGTAACATCCCCGTGTGCTCGTCGATGATGCACGCGGGCGACTCCGTGTGTTAGTAGACTTGTGGTGTCTTGGCGGTTCA']"
      ]
     },
     "execution_count": 117,
     "metadata": {},
     "output_type": "execute_result"
    }
   ],
   "source": [
    "# fa files\n",
    "fa_in = open(\"D:/IntroToDataMining-CS412/final project/benchmark/dataset0/sequences.fa\",\"r\")\n",
    "fa_Seq = []# define a list to store the sequences\n",
    "fa_Num = 0\n",
    "for line in fa_in.readlines():# read FASTA format line by line\n",
    "    line = line.rstrip()# trim the line\n",
    "    fa_Num = fa_Num + 1\n",
    "    fa_Seq.append(line)\n",
    "fa_Seq"
   ]
  },
  {
   "cell_type": "code",
   "execution_count": 13,
   "metadata": {},
   "outputs": [
    {
     "data": {
      "text/plain": [
       "8"
      ]
     },
     "execution_count": 13,
     "metadata": {},
     "output_type": "execute_result"
    }
   ],
   "source": [
    "# motif length motiflength.txt\n",
    "motiflen_in = open(\"D:/IntroToDataMining-CS412/final project/benchmark/dataset0/motiflength.txt\",\"r\")\n",
    "motif_len = int(motiflen_in.readline())\n",
    "motif_len"
   ]
  },
  {
   "cell_type": "markdown",
   "metadata": {},
   "source": [
    "## Gibbs sampler"
   ]
  },
  {
   "cell_type": "markdown",
   "metadata": {},
   "source": [
    "#### Step1: Random initialize site"
   ]
  },
  {
   "cell_type": "code",
   "execution_count": 97,
   "metadata": {},
   "outputs": [
    {
     "data": {
      "text/plain": [
       "[['A', 'C', 'G', 'T', 'T', 'A', 'C', 'T'],\n",
       " ['T', 'G', 'G', 'G', 'C', 'C', 'A', 'A'],\n",
       " ['T', 'G', 'A', 'C', 'A', 'T', 'G', 'A'],\n",
       " ['C', 'C', 'C', 'G', 'T', 'G', 'A', 'C'],\n",
       " ['G', 'A', 'T', 'C', 'C', 'A', 'C', 'A'],\n",
       " ['G', 'G', 'T', 'T', 'G', 'T', 'T', 'A'],\n",
       " ['G', 'C', 'T', 'C', 'T', 'A', 'A', 'A'],\n",
       " ['G', 'G', 'T', 'G', 'G', 'G', 'T', 'T'],\n",
       " ['A', 'T', 'T', 'C', 'C', 'G', 'C', 'A'],\n",
       " ['C', 'C', 'G', 'A', 'A', 'T', 'A', 'T']]"
      ]
     },
     "execution_count": 97,
     "metadata": {},
     "output_type": "execute_result"
    }
   ],
   "source": [
    "# max site for the sequence is\n",
    "# index: len(fa_Seq[0])-motif_len\n",
    "sites = [random.randint(0, (len(fa_Seq[0])-motif_len)) for i in range(fa_Num)] \n",
    "k_mers = []\n",
    "for i in range(fa_Num):\n",
    "    k_mers.append(list(fa_Seq[i][sites[i]:sites[i]+motif_len]))\n",
    "k_mers"
   ]
  },
  {
   "cell_type": "markdown",
   "metadata": {},
   "source": [
    "#### Step2: Random ignore one sequence"
   ]
  },
  {
   "cell_type": "code",
   "execution_count": 100,
   "metadata": {},
   "outputs": [
    {
     "data": {
      "text/plain": [
       "6"
      ]
     },
     "execution_count": 100,
     "metadata": {},
     "output_type": "execute_result"
    }
   ],
   "source": [
    "hide_index = random.randint(0,fa_Num-1)\n",
    "hide_index"
   ]
  },
  {
   "cell_type": "markdown",
   "metadata": {},
   "source": [
    "#### Step3: Generate init motif_matrix"
   ]
  },
  {
   "cell_type": "code",
   "execution_count": 1,
   "metadata": {},
   "outputs": [
    {
     "ename": "NameError",
     "evalue": "name 'k_mers' is not defined",
     "output_type": "error",
     "traceback": [
      "\u001b[0;31m---------------------------------------------------------------------------\u001b[0m",
      "\u001b[0;31mNameError\u001b[0m                                 Traceback (most recent call last)",
      "\u001b[0;32m<ipython-input-1-b5fa8884e9b5>\u001b[0m in \u001b[0;36m<module>\u001b[0;34m()\u001b[0m\n\u001b[0;32m----> 1\u001b[0;31m \u001b[0mtemp_motif_matrix\u001b[0m \u001b[0;34m=\u001b[0m \u001b[0mk_mers\u001b[0m\u001b[0;34m[\u001b[0m\u001b[0;34m:\u001b[0m\u001b[0mhide_index\u001b[0m\u001b[0;34m]\u001b[0m\u001b[0;34m+\u001b[0m\u001b[0mk_mers\u001b[0m\u001b[0;34m[\u001b[0m\u001b[0mhide_index\u001b[0m\u001b[0;34m+\u001b[0m\u001b[0;36m1\u001b[0m\u001b[0;34m:\u001b[0m\u001b[0;34m]\u001b[0m\u001b[0;34m\u001b[0m\u001b[0;34m\u001b[0m\u001b[0m\n\u001b[0m\u001b[1;32m      2\u001b[0m \u001b[0mtemp_motif_matrix\u001b[0m\u001b[0;34m\u001b[0m\u001b[0;34m\u001b[0m\u001b[0m\n",
      "\u001b[0;31mNameError\u001b[0m: name 'k_mers' is not defined"
     ]
    }
   ],
   "source": [
    "temp_motif_matrix = k_mers[:hide_index]+k_mers[hide_index+1:]\n",
    "temp_motif_matrix"
   ]
  },
  {
   "cell_type": "markdown",
   "metadata": {},
   "source": [
    "#### Step4: Generate psudo_count_matrix"
   ]
  },
  {
   "cell_type": "code",
   "execution_count": 108,
   "metadata": {},
   "outputs": [
    {
     "data": {
      "text/plain": [
       "array([[3, 2, 2, 2, 3, 3, 4, 6],\n",
       "       [3, 2, 5, 3, 3, 4, 3, 4],\n",
       "       [3, 4, 2, 4, 4, 2, 4, 2],\n",
       "       [4, 5, 4, 4, 3, 4, 2, 1]])"
      ]
     },
     "execution_count": 108,
     "metadata": {},
     "output_type": "execute_result"
    }
   ],
   "source": [
    "psudo_count_matrix = [[1 for i in range(motif_len)] for j in range(4)]\n",
    "for i in range(motif_len):\n",
    "    for j in range(fa_Num-1):\n",
    "        if temp_motif_matrix[j][i] == 'A':\n",
    "            psudo_count_matrix[0][i] += 1\n",
    "        elif temp_motif_matrix[j][i] == 'T':\n",
    "            psudo_count_matrix[1][i] += 1\n",
    "        elif temp_motif_matrix[j][i] == 'C':\n",
    "            psudo_count_matrix[2][i] += 1\n",
    "        elif temp_motif_matrix[j][i] == 'G':\n",
    "            psudo_count_matrix[3][i] += 1\n",
    "psudo_count_matrix = np.array(psudo_count_matrix) #pro_matrixpsudo_count_matrix\n",
    "psudo_count_matrix"
   ]
  },
  {
   "cell_type": "markdown",
   "metadata": {},
   "source": [
    "#### Step5: Generate pro_matrix"
   ]
  },
  {
   "cell_type": "code",
   "execution_count": 114,
   "metadata": {
    "scrolled": true
   },
   "outputs": [
    {
     "name": "stdout",
     "output_type": "stream",
     "text": [
      "[[0.23076923 0.15384615 0.15384615 0.15384615 0.23076923 0.23076923\n",
      "  0.30769231 0.46153846]\n",
      " [0.23076923 0.15384615 0.38461538 0.23076923 0.23076923 0.30769231\n",
      "  0.23076923 0.30769231]\n",
      " [0.23076923 0.30769231 0.15384615 0.30769231 0.30769231 0.15384615\n",
      "  0.30769231 0.15384615]\n",
      " [0.30769231 0.38461538 0.30769231 0.30769231 0.23076923 0.30769231\n",
      "  0.15384615 0.07692308]]\n"
     ]
    }
   ],
   "source": [
    "pro_matrix = psudo_count_matrix/(fa_Num-1+4)\n",
    "print(pro_matrix)"
   ]
  },
  {
   "cell_type": "markdown",
   "metadata": {},
   "source": [
    "#### Step6: Probabilities of all k-mers in hiden String"
   ]
  },
  {
   "cell_type": "code",
   "execution_count": 130,
   "metadata": {},
   "outputs": [],
   "source": [
    "# E = ['A', 'T', 'C', 'G']\n",
    "def generate_prob(pro_matrix,k_mer): #k_mer 'CAAATCCC'\n",
    "    '''\n",
    "    Calculate the probability of current k_mer\n",
    "    '''\n",
    "    dic = {'A':0,'T':1,'C':2,'G':3}\n",
    "    p = 1\n",
    "    for i in range(len(k_mer)):\n",
    "        p = p * pro_matrix[dic[k_mer[i]]][i]\n",
    "    return p"
   ]
  },
  {
   "cell_type": "markdown",
   "metadata": {},
   "source": [
    "#### Step7: Sample a k-mer from the hidden string with probability and update motif matrix "
   ]
  },
  {
   "cell_type": "code",
   "execution_count": 410,
   "metadata": {},
   "outputs": [
    {
     "data": {
      "text/plain": [
       "8"
      ]
     },
     "execution_count": 410,
     "metadata": {},
     "output_type": "execute_result"
    }
   ],
   "source": [
    "prob = []\n",
    "hiden_string = fa_Seq[hide_index]\n",
    "for i in  range(len(fa_Seq[0])-motif_len+1):\n",
    "    temp_k_mer = hiden_string[i:i+motif_len]\n",
    "    prob.append(generate_prob(pro_matrix,temp_k_mer))\n",
    "updated_site = np.random.choice(len(fa_Seq[0])-motif_len+1,1,prob)[0]\n",
    "updated_site"
   ]
  },
  {
   "cell_type": "code",
   "execution_count": 413,
   "metadata": {},
   "outputs": [
    {
     "data": {
      "text/plain": [
       "[252, 21, 314, 103, 143, 85, 8, 5, 269, 296]"
      ]
     },
     "execution_count": 413,
     "metadata": {},
     "output_type": "execute_result"
    }
   ],
   "source": [
    "sites[hide_index] = updated_site\n",
    "sites"
   ]
  },
  {
   "cell_type": "code",
   "execution_count": 418,
   "metadata": {},
   "outputs": [
    {
     "data": {
      "text/plain": [
       "[['A', 'C', 'G', 'T', 'T', 'A', 'C', 'T'],\n",
       " ['T', 'G', 'G', 'G', 'C', 'C', 'A', 'A'],\n",
       " ['T', 'G', 'A', 'C', 'A', 'T', 'G', 'A'],\n",
       " ['C', 'C', 'C', 'G', 'T', 'G', 'A', 'C'],\n",
       " ['G', 'A', 'T', 'C', 'C', 'A', 'C', 'A'],\n",
       " ['G', 'G', 'T', 'T', 'G', 'T', 'T', 'A'],\n",
       " ['T', 'G', 'G', 'T', 'G', 'T', 'C', 'A'],\n",
       " ['G', 'G', 'T', 'G', 'G', 'G', 'T', 'T'],\n",
       " ['A', 'T', 'T', 'C', 'C', 'G', 'C', 'A'],\n",
       " ['C', 'C', 'G', 'A', 'A', 'T', 'A', 'T']]"
      ]
     },
     "execution_count": 418,
     "metadata": {},
     "output_type": "execute_result"
    }
   ],
   "source": [
    "temp_k_mers = k_mers\n",
    "temp_k_mers[hide_index] = list(fa_Seq[hide_index][sites[hide_index]:sites[hide_index]+motif_len])\n",
    "temp_k_mers"
   ]
  },
  {
   "cell_type": "markdown",
   "metadata": {},
   "source": [
    "#### Step8: Calculate F to decide whethter to update or not\n",
    "F shows whether the new motif is closer to the optimal, so we update site and k-mers only if F increases"
   ]
  },
  {
   "cell_type": "code",
   "execution_count": 442,
   "metadata": {},
   "outputs": [],
   "source": [
    "def F_given_model(temp_k_mers,background_p):\n",
    "    '''\n",
    "    Calculate F\n",
    "    temp_k_mers : \n",
    "    [['A', 'C', 'G', 'T', 'T', 'A', 'C', 'T'],\n",
    "     ['T', 'G', 'G', 'G', 'C', 'C', 'A', 'A'],\n",
    "     ['T', 'G', 'A', 'C', 'A', 'T', 'G', 'A'],\n",
    "     ['C', 'C', 'C', 'G', 'T', 'G', 'A', 'C'],\n",
    "     ['G', 'A', 'T', 'C', 'C', 'A', 'C', 'A'],\n",
    "     ['G', 'G', 'T', 'T', 'G', 'T', 'T', 'A'],\n",
    "     ['T', 'G', 'G', 'T', 'G', 'T', 'C', 'A'],\n",
    "     ['G', 'G', 'T', 'G', 'G', 'G', 'T', 'T'],\n",
    "     ['A', 'T', 'T', 'C', 'C', 'G', 'C', 'A'],\n",
    "     ['C', 'C', 'G', 'A', 'A', 'T', 'A', 'T']]\n",
    "    background_p : [0.2496, 0.2492, 0.2516, 0.2496]\n",
    "    '''\n",
    "    dic = {'A':0,'T':1,'C':2,'G':3}\n",
    "    sigma = ['A','T','C','G']\n",
    "    \n",
    "    #motif_count_matrix\n",
    "    count_matrix = [[0 for i in range(motif_len)] for j in range(4)]\n",
    "    for i in range(motif_len):\n",
    "        for j in range(fa_Num):\n",
    "            if temp_k_mers[j][i] == 'A':\n",
    "                count_matrix[0][i] += 1\n",
    "            elif temp_k_mers[j][i] == 'T':\n",
    "                count_matrix[1][i] += 1\n",
    "            elif temp_k_mers[j][i] == 'C':\n",
    "                count_matrix[2][i] += 1\n",
    "            elif temp_k_mers[j][i] == 'G':\n",
    "                count_matrix[3][i] += 1\n",
    "    count_matrix = np.array(count_matrix)\n",
    "    '''\n",
    "    [[3, 2, 2, 2, 3, 3, 4, 6],\n",
    "     [3, 2, 5, 3, 3, 4, 3, 4],\n",
    "     [3, 4, 2, 4, 4, 2, 4, 2],\n",
    "     [4, 5, 4, 4, 3, 4, 2, 1]]\n",
    "    '''\n",
    "    \n",
    "    #motif_probability_matrix\n",
    "    pro_matrix = count_matrix/fa_Num\n",
    "    '''\n",
    "    [[0.23076923 0.15384615 0.15384615 0.15384615 0.23076923 0.23076923\n",
    "      0.30769231 0.46153846]\n",
    "     [0.23076923 0.15384615 0.38461538 0.23076923 0.23076923 0.30769231\n",
    "      0.23076923 0.30769231]\n",
    "     [0.23076923 0.30769231 0.15384615 0.30769231 0.30769231 0.15384615\n",
    "      0.30769231 0.15384615]\n",
    "     [0.30769231 0.38461538 0.30769231 0.30769231 0.23076923 0.30769231\n",
    "      0.15384615 0.07692308]]\n",
    "    '''\n",
    "    #print(count_matrix)\n",
    "    F = 0\n",
    "    for i in range(len(temp_k_mers[0])):\n",
    "        for j in range(4):\n",
    "            if count_matrix[j][i] == 0:\n",
    "                F += 0\n",
    "            else:\n",
    "                F += count_matrix[j][i]*math.log2(pro_matrix[j][i]/background_p[j])\n",
    "    return F"
   ]
  },
  {
   "cell_type": "code",
   "execution_count": 427,
   "metadata": {},
   "outputs": [
    {
     "data": {
      "text/plain": [
       "array([0.2496, 0.2492, 0.2516, 0.2496])"
      ]
     },
     "execution_count": 427,
     "metadata": {},
     "output_type": "execute_result"
    }
   ],
   "source": [
    "# Calculate background probability\n",
    "dic = {'A':0,'T':1,'C':2,'G':3}\n",
    "background_c = [0 for i in range(4)]\n",
    "background_c = np.array(background_c)\n",
    "for i in fa_Seq:\n",
    "    for j in i:\n",
    "        background_c[dic[j]] +=1\n",
    "background_p = background_c/sum(background_c)\n",
    "background_p"
   ]
  },
  {
   "cell_type": "code",
   "execution_count": 443,
   "metadata": {},
   "outputs": [
    {
     "data": {
      "text/plain": [
       "17.69739653068369"
      ]
     },
     "execution_count": 443,
     "metadata": {},
     "output_type": "execute_result"
    }
   ],
   "source": [
    "F_given_model(temp_k_mers,[0.2496, 0.2492, 0.2516, 0.2496])"
   ]
  },
  {
   "cell_type": "code",
   "execution_count": null,
   "metadata": {},
   "outputs": [],
   "source": []
  }
 ],
 "metadata": {
  "kernelspec": {
   "display_name": "Python 3",
   "language": "python",
   "name": "python3"
  },
  "language_info": {
   "codemirror_mode": {
    "name": "ipython",
    "version": 3
   },
   "file_extension": ".py",
   "mimetype": "text/x-python",
   "name": "python",
   "nbconvert_exporter": "python",
   "pygments_lexer": "ipython3",
   "version": "3.7.1"
  }
 },
 "nbformat": 4,
 "nbformat_minor": 2
}
